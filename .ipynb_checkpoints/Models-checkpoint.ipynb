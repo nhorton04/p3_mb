{
 "cells": [
  {
   "cell_type": "code",
   "execution_count": null,
   "metadata": {},
   "outputs": [],
   "source": [
    "%matplotlib inline\n",
    "import pandas as pd\n",
    "import numpy as np\n",
    "import matplotlib.pyplot as plt\n",
    "import seaborn as sns\n",
    "import pickle\n",
    "import xgboost as xgb\n",
    "import graphviz\n",
    "import matplotlib.gridspec as gridspec\n",
    "import tqdm\n",
    "\n",
    "from joblib import parallel_backend\n",
    "from imblearn.under_sampling import NearMiss, InstanceHardnessThreshold, OneSidedSelection, CondensedNearestNeighbour\n",
    "from sklearn import datasets\n",
    "from sklearn.neighbors import KNeighborsClassifier\n",
    "from sklearn.linear_model import LogisticRegression\n",
    "from sklearn.model_selection import train_test_split, KFold, StratifiedKFold, cross_val_score, GridSearchCV\n",
    "from sklearn.metrics import precision_score, recall_score, precision_recall_curve,f1_score, fbeta_score, confusion_matrix, plot_confusion_matrix, roc_auc_score, roc_curve, classification_report\n",
    "from sklearn.preprocessing import StandardScaler\n",
    "\n",
    "from sklearn.multiclass import OneVsRestClassifier\n",
    "from sklearn.pipeline import Pipeline\n",
    "from collections import defaultdict\n",
    "from sklearn import svm\n",
    "from sklearn.naive_bayes import GaussianNB, BernoulliNB\n",
    "from sklearn import tree\n",
    "from sklearn.tree import DecisionTreeClassifier\n",
    "from sklearn.ensemble import RandomForestClassifier, ExtraTreesClassifier\n",
    "from xgboost import XGBClassifier\n",
    "\n",
    "# from IPython.core.display import display, HTML\n",
    "# display(HTML(\"<style>.container { width:100% !important; }</style>\"))"
   ]
  },
  {
   "cell_type": "code",
   "execution_count": 2,
   "metadata": {},
   "outputs": [],
   "source": [
    "with open('/home/nick/Documents/data/select_cols.p', 'rb') as read_file:\n",
    "    selected_columns = pickle.load(read_file)\n",
    "\n",
    "X, y = selected_columns.filter(['EDUC', 'UHRSWORK', 'OCC', 'VALUEH', 'DEGFIELD', 'AGE', 'SEX', 'RACE', 'TRANWORK']), selected_columns.filter(['>50K'])"
   ]
  },
  {
   "cell_type": "code",
   "execution_count": 3,
   "metadata": {},
   "outputs": [],
   "source": [
    "edu = pd.get_dummies(X['EDUC'], prefix='edu')\n",
    "occ = pd.get_dummies(X['OCC'], prefix='occ')\n",
    "degfield = pd.get_dummies(X['DEGFIELD'], prefix='deg')\n",
    "sex = pd.get_dummies(X['SEX'], prefix='sex', drop_first=True)\n",
    "leftover = X.drop(columns=['EDUC', 'OCC', 'DEGFIELD', 'SEX'])\n",
    "X = pd.concat([leftover, occ, sex, degfield, edu], axis=1)\n",
    "\n",
    "X_train, X_test, y_train, y_test = train_test_split(X, y, test_size=0.2, random_state=42)"
   ]
  },
  {
   "cell_type": "code",
   "execution_count": null,
   "metadata": {},
   "outputs": [],
   "source": [
    "classifier = OneVsRestClassifier(svm.SVC)"
   ]
  },
  {
   "cell_type": "code",
   "execution_count": 4,
   "metadata": {},
   "outputs": [
    {
     "name": "stderr",
     "output_type": "stream",
     "text": [
      "<ipython-input-4-9319caf59eb6>:2: DataConversionWarning: A column-vector y was passed when a 1d array was expected. Please change the shape of y to (n_samples,), for example using ravel().\n",
      "  forest.fit(X_train, y_train)\n"
     ]
    },
    {
     "data": {
      "text/plain": [
       "ExtraTreesClassifier(n_jobs=-1)"
      ]
     },
     "execution_count": 4,
     "metadata": {},
     "output_type": "execute_result"
    }
   ],
   "source": [
    "forest = ExtraTreesClassifier(n_estimators=100, n_jobs=-1)\n",
    "forest.fit(X_train, y_train)"
   ]
  },
  {
   "cell_type": "code",
   "execution_count": 5,
   "metadata": {},
   "outputs": [
    {
     "name": "stdout",
     "output_type": "stream",
     "text": [
      "Training:  97.55%\n",
      "Test set:  80.62%\n"
     ]
    }
   ],
   "source": [
    "print(\"Training: {:6.2f}%\".format(100*forest.score(X_train, y_train)))\n",
    "print(\"Test set: {:6.2f}%\".format(100*forest.score(X_test, y_test)))"
   ]
  },
  {
   "cell_type": "code",
   "execution_count": null,
   "metadata": {},
   "outputs": [],
   "source": [
    "plot_confusion_matrix(forest, X_test, y_test)"
   ]
  },
  {
   "cell_type": "code",
   "execution_count": null,
   "metadata": {},
   "outputs": [],
   "source": [
    "\n",
    "y_predict = forest.predict(X_test)\n",
    "print(\"Default threshold:\")\n",
    "print(\"Precision: {:6.4f},   Recall: {:6.4f}\".format(precision_score(y_test, y_predict), \n",
    "                                                     recall_score(y_test, y_predict)))"
   ]
  },
  {
   "cell_type": "code",
   "execution_count": 6,
   "metadata": {},
   "outputs": [],
   "source": [
    "# nm1 = NearMiss(version=1, sampling_strategy='auto', n_jobs=-1)\n",
    "# Xr_train, yr_train = nm1.fit_resample(X_train, y_train)"
   ]
  },
  {
   "cell_type": "code",
   "execution_count": 7,
   "metadata": {},
   "outputs": [],
   "source": [
    "# sns.countplot(y_test[\">50K\"])"
   ]
  },
  {
   "cell_type": "code",
   "execution_count": 8,
   "metadata": {},
   "outputs": [],
   "source": [
    "# sns.countplot(yr_train[\">50K\"])"
   ]
  },
  {
   "cell_type": "code",
   "execution_count": 9,
   "metadata": {},
   "outputs": [],
   "source": [
    "train_df = X_train.copy()\n",
    "train_df['$$$'] = y_train"
   ]
  },
  {
   "cell_type": "code",
   "execution_count": 10,
   "metadata": {},
   "outputs": [],
   "source": [
    "## Scaling, although it seems to worsen the results for most models\n",
    "# std = StandardScaler()\n",
    "# X_train_scaled = std.fit_transform(X_train)\n",
    "# Xr_train_scaled = std.fit_transform(Xr_train)"
   ]
  },
  {
   "cell_type": "code",
   "execution_count": 11,
   "metadata": {},
   "outputs": [
    {
     "name": "stderr",
     "output_type": "stream",
     "text": [
      "<ipython-input-11-fb83969704ba>:2: DataConversionWarning: A column-vector y was passed when a 1d array was expected. Please change the shape of y to (n_samples,), for example using ravel().\n",
      "  rf.fit(X_train, y_train)\n"
     ]
    },
    {
     "name": "stdout",
     "output_type": "stream",
     "text": [
      "The r2 score for random forest is\n",
      "Training:  97.55%\n",
      "Test set:  81.40%\n"
     ]
    },
    {
     "data": {
      "text/plain": [
       "<sklearn.metrics._plot.confusion_matrix.ConfusionMatrixDisplay at 0x7f17b17bc220>"
      ]
     },
     "execution_count": 11,
     "metadata": {},
     "output_type": "execute_result"
    },
    {
     "data": {
      "image/png": "[encoded data removed]",
      "text/plain": [
       "<Figure size 432x288 with 2 Axes>"
      ]
     },
     "metadata": {
      "needs_background": "light"
     },
     "output_type": "display_data"
    }
   ],
   "source": [
    "rf = RandomForestClassifier(n_jobs=-1)\n",
    "rf.fit(X_train, y_train)\n",
    "print(\"The r2 score for random forest is\")\n",
    "print(\"Training: {:6.2f}%\".format(100*rf.score(X_train, y_train)))\n",
    "print(\"Test set: {:6.2f}%\".format(100*rf.score(X_test, y_test)))\n"
   ]
  },
  {
   "cell_type": "code",
   "execution_count": 12,
   "metadata": {},
   "outputs": [
    {
     "name": "stdout",
     "output_type": "stream",
     "text": [
      "Default threshold:\n",
      "Precision: 0.7272,   Recall: 0.6717\n"
     ]
    }
   ],
   "source": [
    "y_predict = rf.predict(X_test)\n",
    "print(\"Default threshold:\")\n",
    "print(\"Precision: {:6.4f},   Recall: {:6.4f}\".format(precision_score(y_test, y_predict), \n",
    "                                                     recall_score(y_test, y_predict)))"
   ]
  },
  {
   "cell_type": "code",
   "execution_count": 13,
   "metadata": {},
   "outputs": [
    {
     "name": "stderr",
     "output_type": "stream",
     "text": [
      "/home/nick/anaconda3/lib/python3.8/site-packages/sklearn/utils/validation.py:73: DataConversionWarning: A column-vector y was passed when a 1d array was expected. Please change the shape of y to (n_samples, ), for example using ravel().\n",
      "  return f(**kwargs)\n"
     ]
    },
    {
     "name": "stdout",
     "output_type": "stream",
     "text": [
      "The score for logistic regression is\n",
      "Training:  66.74%\n",
      "Test set:  66.76%\n"
     ]
    },
    {
     "data": {
      "text/plain": [
       "<sklearn.metrics._plot.confusion_matrix.ConfusionMatrixDisplay at 0x7f1737a88370>"
      ]
     },
     "execution_count": 13,
     "metadata": {},
     "output_type": "execute_result"
    },
    {
     "data": {
      "image/png": "[encoded data removed]",
      "text/plain": [
       "<Figure size 432x288 with 2 Axes>"
      ]
     },
     "metadata": {
      "needs_background": "light"
     },
     "output_type": "display_data"
    }
   ],
   "source": [
    "lr = LogisticRegression()\n",
    "lr.fit(X_train, y_train)\n",
    "print(\"The score for logistic regression is\")\n",
    "print(\"Training: {:6.2f}%\".format(100*lr.score(X_train, y_train)))\n",
    "print(\"Test set: {:6.2f}%\".format(100*lr.score(X_test, y_test)))\n",
    "plot_confusion_matrix(lr, X_test, y_test)"
   ]
  },
  {
   "cell_type": "code",
   "execution_count": 14,
   "metadata": {},
   "outputs": [
    {
     "name": "stdout",
     "output_type": "stream",
     "text": [
      "Default threshold:\n",
      "Precision: 0.3443,   Recall: 0.0405\n"
     ]
    }
   ],
   "source": [
    "y_predict = lr.predict(X_test)\n",
    "print(\"Default threshold:\")\n",
    "print(\"Precision: {:6.4f},   Recall: {:6.4f}\".format(precision_score(y_test, y_predict), \n",
    "                                                     recall_score(y_test, y_predict)))"
   ]
  },
  {
   "cell_type": "code",
   "execution_count": 15,
   "metadata": {},
   "outputs": [
    {
     "name": "stderr",
     "output_type": "stream",
     "text": [
      "<ipython-input-15-ba301bfa0a33>:2: DataConversionWarning: A column-vector y was passed when a 1d array was expected. Please change the shape of y to (n_samples, ), for example using ravel().\n",
      "  knn.fit(X_train, y_train)\n"
     ]
    },
    {
     "name": "stdout",
     "output_type": "stream",
     "text": [
      "Training:  96.70%\n",
      "Test set:  74.61%\n"
     ]
    },
    {
     "data": {
      "text/plain": [
       "<sklearn.metrics._plot.confusion_matrix.ConfusionMatrixDisplay at 0x7f1738254190>"
      ]
     },
     "execution_count": 15,
     "metadata": {},
     "output_type": "execute_result"
    },
    {
     "data": {
      "image/png": "[encoded data removed]",
      "text/plain": [
       "<Figure size 432x288 with 2 Axes>"
      ]
     },
     "metadata": {
      "needs_background": "light"
     },
     "output_type": "display_data"
    }
   ],
   "source": [
    "knn = KNeighborsClassifier(n_neighbors=1, n_jobs=-1)\n",
    "knn.fit(X_train, y_train)\n",
    "print(\"Training: {:6.2f}%\".format(100*knn.score(X_train, y_train)))\n",
    "print(\"Test set: {:6.2f}%\".format(100*knn.score(X_test, y_test)))\n",
    "plot_confusion_matrix(knn, X_test, y_test)"
   ]
  },
  {
   "cell_type": "code",
   "execution_count": 16,
   "metadata": {
    "scrolled": true
   },
   "outputs": [
    {
     "name": "stderr",
     "output_type": "stream",
     "text": [
      "/home/nick/anaconda3/lib/python3.8/site-packages/sklearn/utils/validation.py:73: DataConversionWarning: A column-vector y was passed when a 1d array was expected. Please change the shape of y to (n_samples, ), for example using ravel().\n",
      "  return f(**kwargs)\n"
     ]
    },
    {
     "name": "stdout",
     "output_type": "stream",
     "text": [
      "[0]\tvalidation_0-aucpr:0.74320\n",
      "Will train until validation_0-aucpr hasn't improved in 10 rounds.\n",
      "[1]\tvalidation_0-aucpr:0.75836\n",
      "[2]\tvalidation_0-aucpr:0.76326\n",
      "[3]\tvalidation_0-aucpr:0.76586\n",
      "[4]\tvalidation_0-aucpr:0.76958\n",
      "[5]\tvalidation_0-aucpr:0.77077\n",
      "[6]\tvalidation_0-aucpr:0.77344\n",
      "[7]\tvalidation_0-aucpr:0.77582\n",
      "[8]\tvalidation_0-aucpr:0.77807\n",
      "[9]\tvalidation_0-aucpr:0.77901\n",
      "[10]\tvalidation_0-aucpr:0.78031\n",
      "[11]\tvalidation_0-aucpr:0.78173\n",
      "[12]\tvalidation_0-aucpr:0.78273\n",
      "[13]\tvalidation_0-aucpr:0.78363\n",
      "[14]\tvalidation_0-aucpr:0.78524\n",
      "[15]\tvalidation_0-aucpr:0.78625\n",
      "[16]\tvalidation_0-aucpr:0.78725\n",
      "[17]\tvalidation_0-aucpr:0.78823\n",
      "[18]\tvalidation_0-aucpr:0.78946\n",
      "[19]\tvalidation_0-aucpr:0.79033\n",
      "[20]\tvalidation_0-aucpr:0.79134\n",
      "[21]\tvalidation_0-aucpr:0.79183\n",
      "[22]\tvalidation_0-aucpr:0.79263\n",
      "[23]\tvalidation_0-aucpr:0.79323\n",
      "[24]\tvalidation_0-aucpr:0.79378\n",
      "[25]\tvalidation_0-aucpr:0.79435\n",
      "[26]\tvalidation_0-aucpr:0.79492\n",
      "[27]\tvalidation_0-aucpr:0.79548\n",
      "[28]\tvalidation_0-aucpr:0.79597\n",
      "[29]\tvalidation_0-aucpr:0.79633\n",
      "[30]\tvalidation_0-aucpr:0.79690\n",
      "[31]\tvalidation_0-aucpr:0.79732\n",
      "[32]\tvalidation_0-aucpr:0.79771\n",
      "[33]\tvalidation_0-aucpr:0.79811\n",
      "[34]\tvalidation_0-aucpr:0.79847\n",
      "[35]\tvalidation_0-aucpr:0.79887\n",
      "[36]\tvalidation_0-aucpr:0.79924\n",
      "[37]\tvalidation_0-aucpr:0.79947\n",
      "[38]\tvalidation_0-aucpr:0.79993\n",
      "[39]\tvalidation_0-aucpr:0.80022\n",
      "[40]\tvalidation_0-aucpr:0.80052\n",
      "[41]\tvalidation_0-aucpr:0.80081\n",
      "[42]\tvalidation_0-aucpr:0.80106\n",
      "[43]\tvalidation_0-aucpr:0.80139\n",
      "[44]\tvalidation_0-aucpr:0.80171\n",
      "[45]\tvalidation_0-aucpr:0.80189\n",
      "[46]\tvalidation_0-aucpr:0.80229\n",
      "[47]\tvalidation_0-aucpr:0.80250\n",
      "[48]\tvalidation_0-aucpr:0.80282\n",
      "[49]\tvalidation_0-aucpr:0.80310\n",
      "[50]\tvalidation_0-aucpr:0.80332\n",
      "[51]\tvalidation_0-aucpr:0.80351\n",
      "[52]\tvalidation_0-aucpr:0.80369\n",
      "[53]\tvalidation_0-aucpr:0.80390\n",
      "[54]\tvalidation_0-aucpr:0.80412\n",
      "[55]\tvalidation_0-aucpr:0.80435\n",
      "[56]\tvalidation_0-aucpr:0.80451\n",
      "[57]\tvalidation_0-aucpr:0.80470\n",
      "[58]\tvalidation_0-aucpr:0.80486\n",
      "[59]\tvalidation_0-aucpr:0.80514\n",
      "[60]\tvalidation_0-aucpr:0.80533\n",
      "[61]\tvalidation_0-aucpr:0.80552\n",
      "[62]\tvalidation_0-aucpr:0.80576\n",
      "[63]\tvalidation_0-aucpr:0.80586\n",
      "[64]\tvalidation_0-aucpr:0.80602\n",
      "[65]\tvalidation_0-aucpr:0.80618\n",
      "[66]\tvalidation_0-aucpr:0.80636\n",
      "[67]\tvalidation_0-aucpr:0.80657\n",
      "[68]\tvalidation_0-aucpr:0.80671\n",
      "[69]\tvalidation_0-aucpr:0.80692\n",
      "[70]\tvalidation_0-aucpr:0.80706\n",
      "[71]\tvalidation_0-aucpr:0.80719\n",
      "[72]\tvalidation_0-aucpr:0.80729\n",
      "[73]\tvalidation_0-aucpr:0.80739\n",
      "[74]\tvalidation_0-aucpr:0.80753\n",
      "[75]\tvalidation_0-aucpr:0.80773\n",
      "[76]\tvalidation_0-aucpr:0.80790\n",
      "[77]\tvalidation_0-aucpr:0.80800\n",
      "[78]\tvalidation_0-aucpr:0.80817\n",
      "[79]\tvalidation_0-aucpr:0.80823\n",
      "[80]\tvalidation_0-aucpr:0.80833\n",
      "[81]\tvalidation_0-aucpr:0.80846\n",
      "[82]\tvalidation_0-aucpr:0.80858\n",
      "[83]\tvalidation_0-aucpr:0.80867\n",
      "[84]\tvalidation_0-aucpr:0.80880\n",
      "[85]\tvalidation_0-aucpr:0.80891\n",
      "[86]\tvalidation_0-aucpr:0.80904\n",
      "[87]\tvalidation_0-aucpr:0.80917\n",
      "[88]\tvalidation_0-aucpr:0.80926\n",
      "[89]\tvalidation_0-aucpr:0.80937\n",
      "[90]\tvalidation_0-aucpr:0.80945\n",
      "[91]\tvalidation_0-aucpr:0.80960\n",
      "[92]\tvalidation_0-aucpr:0.80976\n",
      "[93]\tvalidation_0-aucpr:0.80981\n",
      "[94]\tvalidation_0-aucpr:0.80991\n",
      "[95]\tvalidation_0-aucpr:0.80998\n",
      "[96]\tvalidation_0-aucpr:0.81007\n",
      "[97]\tvalidation_0-aucpr:0.81017\n",
      "[98]\tvalidation_0-aucpr:0.81026\n",
      "[99]\tvalidation_0-aucpr:0.81035\n"
     ]
    },
    {
     "data": {
      "text/plain": [
       "XGBClassifier(base_score=0.5, booster='gbtree', colsample_bylevel=1,\n",
       "              colsample_bynode=1, colsample_bytree=1, gamma=0, gpu_id=-1,\n",
       "              importance_type='gain', interaction_constraints='',\n",
       "              learning_rate=0.300000012, max_delta_step=0, max_depth=6,\n",
       "              min_child_weight=1, missing=None, monotone_constraints='()',\n",
       "              n_estimators=100, n_jobs=0, num_parallel_tree=1, random_state=42,\n",
       "              reg_alpha=0, reg_lambda=1, scale_pos_weight=1, seed=42,\n",
       "              subsample=1, tree_method='exact', validate_parameters=1,\n",
       "              verbosity=None)"
      ]
     },
     "execution_count": 16,
     "metadata": {},
     "output_type": "execute_result"
    }
   ],
   "source": [
    "clf_xgb = xgb.XGBClassifier(objective='binary:logistic', missing=None, seed=42)\n",
    "clf_xgb.fit(X_train, y_train, verbose=True, early_stopping_rounds=10, eval_metric='aucpr', eval_set=[(X_test, y_test)])"
   ]
  },
  {
   "cell_type": "code",
   "execution_count": 17,
   "metadata": {},
   "outputs": [
    {
     "name": "stdout",
     "output_type": "stream",
     "text": [
      "Default threshold:\n",
      "Precision: 0.7597,   Recall: 0.6835\n"
     ]
    }
   ],
   "source": [
    "y_predict = clf_xgb.predict(X_test)\n",
    "print(\"Default threshold:\")\n",
    "print(\"Precision: {:6.4f},   Recall: {:6.4f}\".format(precision_score(y_test, y_predict), \n",
    "                                                     recall_score(y_test, y_predict)))"
   ]
  },
  {
   "cell_type": "code",
   "execution_count": 18,
   "metadata": {},
   "outputs": [
    {
     "data": {
      "text/plain": [
       "<sklearn.metrics._plot.confusion_matrix.ConfusionMatrixDisplay at 0x7f17379cb400>"
      ]
     },
     "execution_count": 18,
     "metadata": {},
     "output_type": "execute_result"
    },
    {
     "data": {
      "image/png": "[encoded data removed]",
      "text/plain": [
       "<Figure size 432x288 with 2 Axes>"
      ]
     },
     "metadata": {
      "needs_background": "light"
     },
     "output_type": "display_data"
    }
   ],
   "source": [
    "plot_confusion_matrix(clf_xgb, X_test, y_test, values_format='d')"
   ]
  },
  {
   "cell_type": "code",
   "execution_count": 19,
   "metadata": {},
   "outputs": [],
   "source": [
    "params = {\n",
    "    'max_depth': [3,4,5],\n",
    "    'learning_rate': [0.1, 0.05, 0.01],\n",
    "    'gamma': [0, 0.25, 1.0],\n",
    "    'reg_lambda': [0, 1.0, 10.0],\n",
    "    'scale_pos_weight': [1, 3, 5]\n",
    "}\n",
    "\n",
    "kfold = KFold(n_splits=2)\n",
    "\n",
    "best_xgb = GridSearchCV(\n",
    "    clf_xgb, param_grid=params, cv=3, verbose=0, n_jobs=-1)\n",
    "\n"
   ]
  },
  {
   "cell_type": "code",
   "execution_count": null,
   "metadata": {},
   "outputs": [],
   "source": [
    "scores = cross_val_score(best_xgb, X_train, y_train, scoring='r2', cv=kfold) \n",
    "scores"
   ]
  },
  {
   "cell_type": "code",
   "execution_count": null,
   "metadata": {},
   "outputs": [],
   "source": []
  }
 ],
 "metadata": {
  "kernelspec": {
   "display_name": "Python 3",
   "language": "python",
   "name": "python3"
  },
  "language_info": {
   "codemirror_mode": {
    "name": "ipython",
    "version": 3
   },
   "file_extension": ".py",
   "mimetype": "text/x-python",
   "name": "python",
   "nbconvert_exporter": "python",
   "pygments_lexer": "ipython3",
   "version": "3.8.3"
  }
 },
 "nbformat": 4,
 "nbformat_minor": 4
}
