{
 "cells": [
  {
   "cell_type": "code",
   "execution_count": 16,
   "metadata": {},
   "outputs": [
    {
     "data": {
      "text/html": [
       "<style>.container { width:100% !important; }</style>"
      ],
      "text/plain": [
       "<IPython.core.display.HTML object>"
      ]
     },
     "metadata": {},
     "output_type": "display_data"
    }
   ],
   "source": [
    "%matplotlib inline\n",
    "import pandas as pd\n",
    "import numpy as np\n",
    "import matplotlib.pyplot as plt\n",
    "import seaborn as sns\n",
    "import pickle\n",
    "import statistics\n",
    "import tqdm\n",
    "import xgboost as xgb\n",
    "import graphviz\n",
    "\n",
    "from joblib import parallel_backend\n",
    "from imblearn.under_sampling import NearMiss\n",
    "\n",
    "from sklearn import datasets\n",
    "from sklearn.neighbors import KNeighborsClassifier\n",
    "from sklearn.linear_model import LogisticRegression\n",
    "from sklearn.model_selection import train_test_split, KFold, StratifiedKFold, cross_val_score, GridSearchCV\n",
    "from sklearn.metrics import precision_score, recall_score, precision_recall_curve,f1_score, fbeta_score, confusion_matrix, plot_confusion_matrix, roc_auc_score, roc_curve, classification_report\n",
    "from sklearn.preprocessing import StandardScaler\n",
    "#from yellowbrick.model_selection import FeatureImportances\n",
    "import matplotlib.gridspec as gridspec\n",
    "from sklearn.pipeline import Pipeline\n",
    "from collections import defaultdict\n",
    "from sklearn import svm\n",
    "from sklearn.naive_bayes import GaussianNB\n",
    "from sklearn.naive_bayes import BernoulliNB\n",
    "from sklearn import tree\n",
    "from sklearn.tree import DecisionTreeClassifier\n",
    "from sklearn.ensemble import RandomForestClassifier\n",
    "from xgboost import XGBClassifier\n",
    "\n",
    "from IPython.core.display import display, HTML\n",
    "display(HTML(\"<style>.container { width:100% !important; }</style>\"))"
   ]
  },
  {
   "cell_type": "markdown",
   "metadata": {},
   "source": [
    "### Shortcut to duplicate current line"
   ]
  },
  {
   "cell_type": "code",
   "execution_count": 2,
   "metadata": {},
   "outputs": [
    {
     "data": {
      "application/javascript": [
       "\n",
       "Jupyter.keyboard_manager.edit_shortcuts.add_shortcut('ctrl-shift-d', {\n",
       "    help : 'Duplicate current line',\n",
       "    help_index : 'zz',\n",
       "    handler: function(env) {\n",
       "        var cm=env.notebook.get_selected_cell().code_mirror;\n",
       "        // get a position of a current cursor in a current cell\n",
       "        var current_cursor = cm.doc.getCursor();\n",
       "\n",
       "        // read a content from a line where is the current cursor\n",
       "        var line_content = cm.doc.getLine(current_cursor.line);\n",
       "        cm.execCommand('goLineEnd');\n",
       "        cm.execCommand('newlineAndIndent');\n",
       "        cm.execCommand('indentLess');\n",
       "        cm.doc.replaceSelection(line_content);\n",
       "        cm.doc.setCursor(current_cursor.line + 1, current_cursor.ch);\n",
       "        return false;\n",
       "    }}\n",
       ");\n"
      ],
      "text/plain": [
       "<IPython.core.display.Javascript object>"
      ]
     },
     "metadata": {},
     "output_type": "display_data"
    }
   ],
   "source": [
    "%%javascript\n",
    "\n",
    "Jupyter.keyboard_manager.edit_shortcuts.add_shortcut('ctrl-shift-d', {\n",
    "    help : 'Duplicate current line',\n",
    "    help_index : 'zz',\n",
    "    handler: function(env) {\n",
    "        var cm=env.notebook.get_selected_cell().code_mirror;\n",
    "        // get a position of a current cursor in a current cell\n",
    "        var current_cursor = cm.doc.getCursor();\n",
    "\n",
    "        // read a content from a line where is the current cursor\n",
    "        var line_content = cm.doc.getLine(current_cursor.line);\n",
    "        cm.execCommand('goLineEnd');\n",
    "        cm.execCommand('newlineAndIndent');\n",
    "        cm.execCommand('indentLess');\n",
    "        cm.doc.replaceSelection(line_content);\n",
    "        cm.doc.setCursor(current_cursor.line + 1, current_cursor.ch);\n",
    "        return false;\n",
    "    }}\n",
    ");"
   ]
  },
  {
   "cell_type": "markdown",
   "metadata": {},
   "source": [
    "#### Import data, subsample \"training wheels\" df for faster modelling. Create train/test splits. Create dummy variables for categorical features."
   ]
  },
  {
   "cell_type": "code",
   "execution_count": 3,
   "metadata": {},
   "outputs": [
    {
     "data": {
      "text/html": [
       "<div>\n",
       "<style scoped>\n",
       "    .dataframe tbody tr th:only-of-type {\n",
       "        vertical-align: middle;\n",
       "    }\n",
       "\n",
       "    .dataframe tbody tr th {\n",
       "        vertical-align: top;\n",
       "    }\n",
       "\n",
       "    .dataframe thead th {\n",
       "        text-align: right;\n",
       "    }\n",
       "</style>\n",
       "<table border=\"1\" class=\"dataframe\">\n",
       "  <thead>\n",
       "    <tr style=\"text-align: right;\">\n",
       "      <th></th>\n",
       "      <th>UHRSWORK</th>\n",
       "      <th>VALUEH</th>\n",
       "      <th>AGE</th>\n",
       "      <th>TRANWORK</th>\n",
       "      <th>occ_0.0</th>\n",
       "      <th>occ_10.0</th>\n",
       "      <th>occ_20.0</th>\n",
       "      <th>occ_40.0</th>\n",
       "      <th>occ_51.0</th>\n",
       "      <th>occ_52.0</th>\n",
       "      <th>...</th>\n",
       "      <th>edu_1.0</th>\n",
       "      <th>edu_2.0</th>\n",
       "      <th>edu_3.0</th>\n",
       "      <th>edu_4.0</th>\n",
       "      <th>edu_5.0</th>\n",
       "      <th>edu_6.0</th>\n",
       "      <th>edu_7.0</th>\n",
       "      <th>edu_8.0</th>\n",
       "      <th>edu_10.0</th>\n",
       "      <th>edu_11.0</th>\n",
       "    </tr>\n",
       "  </thead>\n",
       "  <tbody>\n",
       "    <tr>\n",
       "      <th>288956</th>\n",
       "      <td>0.0</td>\n",
       "      <td>930000.0</td>\n",
       "      <td>80.0</td>\n",
       "      <td>0.0</td>\n",
       "      <td>1</td>\n",
       "      <td>0</td>\n",
       "      <td>0</td>\n",
       "      <td>0</td>\n",
       "      <td>0</td>\n",
       "      <td>0</td>\n",
       "      <td>...</td>\n",
       "      <td>0</td>\n",
       "      <td>0</td>\n",
       "      <td>0</td>\n",
       "      <td>0</td>\n",
       "      <td>0</td>\n",
       "      <td>0</td>\n",
       "      <td>0</td>\n",
       "      <td>0</td>\n",
       "      <td>0</td>\n",
       "      <td>1</td>\n",
       "    </tr>\n",
       "    <tr>\n",
       "      <th>1085020</th>\n",
       "      <td>15.0</td>\n",
       "      <td>525000.0</td>\n",
       "      <td>17.0</td>\n",
       "      <td>10.0</td>\n",
       "      <td>0</td>\n",
       "      <td>0</td>\n",
       "      <td>0</td>\n",
       "      <td>0</td>\n",
       "      <td>0</td>\n",
       "      <td>0</td>\n",
       "      <td>...</td>\n",
       "      <td>0</td>\n",
       "      <td>0</td>\n",
       "      <td>0</td>\n",
       "      <td>0</td>\n",
       "      <td>1</td>\n",
       "      <td>0</td>\n",
       "      <td>0</td>\n",
       "      <td>0</td>\n",
       "      <td>0</td>\n",
       "      <td>0</td>\n",
       "    </tr>\n",
       "    <tr>\n",
       "      <th>1242904</th>\n",
       "      <td>40.0</td>\n",
       "      <td>15000.0</td>\n",
       "      <td>67.0</td>\n",
       "      <td>10.0</td>\n",
       "      <td>0</td>\n",
       "      <td>0</td>\n",
       "      <td>0</td>\n",
       "      <td>0</td>\n",
       "      <td>0</td>\n",
       "      <td>0</td>\n",
       "      <td>...</td>\n",
       "      <td>0</td>\n",
       "      <td>0</td>\n",
       "      <td>0</td>\n",
       "      <td>0</td>\n",
       "      <td>0</td>\n",
       "      <td>1</td>\n",
       "      <td>0</td>\n",
       "      <td>0</td>\n",
       "      <td>0</td>\n",
       "      <td>0</td>\n",
       "    </tr>\n",
       "    <tr>\n",
       "      <th>1226428</th>\n",
       "      <td>40.0</td>\n",
       "      <td>60000.0</td>\n",
       "      <td>48.0</td>\n",
       "      <td>40.0</td>\n",
       "      <td>0</td>\n",
       "      <td>0</td>\n",
       "      <td>0</td>\n",
       "      <td>0</td>\n",
       "      <td>0</td>\n",
       "      <td>0</td>\n",
       "      <td>...</td>\n",
       "      <td>0</td>\n",
       "      <td>0</td>\n",
       "      <td>0</td>\n",
       "      <td>1</td>\n",
       "      <td>0</td>\n",
       "      <td>0</td>\n",
       "      <td>0</td>\n",
       "      <td>0</td>\n",
       "      <td>0</td>\n",
       "      <td>0</td>\n",
       "    </tr>\n",
       "    <tr>\n",
       "      <th>420714</th>\n",
       "      <td>50.0</td>\n",
       "      <td>560000.0</td>\n",
       "      <td>64.0</td>\n",
       "      <td>70.0</td>\n",
       "      <td>0</td>\n",
       "      <td>0</td>\n",
       "      <td>0</td>\n",
       "      <td>0</td>\n",
       "      <td>0</td>\n",
       "      <td>0</td>\n",
       "      <td>...</td>\n",
       "      <td>0</td>\n",
       "      <td>0</td>\n",
       "      <td>0</td>\n",
       "      <td>0</td>\n",
       "      <td>0</td>\n",
       "      <td>0</td>\n",
       "      <td>0</td>\n",
       "      <td>0</td>\n",
       "      <td>0</td>\n",
       "      <td>1</td>\n",
       "    </tr>\n",
       "    <tr>\n",
       "      <th>...</th>\n",
       "      <td>...</td>\n",
       "      <td>...</td>\n",
       "      <td>...</td>\n",
       "      <td>...</td>\n",
       "      <td>...</td>\n",
       "      <td>...</td>\n",
       "      <td>...</td>\n",
       "      <td>...</td>\n",
       "      <td>...</td>\n",
       "      <td>...</td>\n",
       "      <td>...</td>\n",
       "      <td>...</td>\n",
       "      <td>...</td>\n",
       "      <td>...</td>\n",
       "      <td>...</td>\n",
       "      <td>...</td>\n",
       "      <td>...</td>\n",
       "      <td>...</td>\n",
       "      <td>...</td>\n",
       "      <td>...</td>\n",
       "      <td>...</td>\n",
       "    </tr>\n",
       "    <tr>\n",
       "      <th>1082509</th>\n",
       "      <td>40.0</td>\n",
       "      <td>350000.0</td>\n",
       "      <td>34.0</td>\n",
       "      <td>10.0</td>\n",
       "      <td>0</td>\n",
       "      <td>0</td>\n",
       "      <td>0</td>\n",
       "      <td>0</td>\n",
       "      <td>0</td>\n",
       "      <td>0</td>\n",
       "      <td>...</td>\n",
       "      <td>0</td>\n",
       "      <td>0</td>\n",
       "      <td>0</td>\n",
       "      <td>0</td>\n",
       "      <td>0</td>\n",
       "      <td>0</td>\n",
       "      <td>0</td>\n",
       "      <td>1</td>\n",
       "      <td>0</td>\n",
       "      <td>0</td>\n",
       "    </tr>\n",
       "    <tr>\n",
       "      <th>764226</th>\n",
       "      <td>0.0</td>\n",
       "      <td>158000.0</td>\n",
       "      <td>81.0</td>\n",
       "      <td>0.0</td>\n",
       "      <td>1</td>\n",
       "      <td>0</td>\n",
       "      <td>0</td>\n",
       "      <td>0</td>\n",
       "      <td>0</td>\n",
       "      <td>0</td>\n",
       "      <td>...</td>\n",
       "      <td>0</td>\n",
       "      <td>0</td>\n",
       "      <td>0</td>\n",
       "      <td>0</td>\n",
       "      <td>0</td>\n",
       "      <td>0</td>\n",
       "      <td>0</td>\n",
       "      <td>1</td>\n",
       "      <td>0</td>\n",
       "      <td>0</td>\n",
       "    </tr>\n",
       "    <tr>\n",
       "      <th>137567</th>\n",
       "      <td>28.0</td>\n",
       "      <td>150000.0</td>\n",
       "      <td>58.0</td>\n",
       "      <td>10.0</td>\n",
       "      <td>0</td>\n",
       "      <td>0</td>\n",
       "      <td>0</td>\n",
       "      <td>0</td>\n",
       "      <td>0</td>\n",
       "      <td>0</td>\n",
       "      <td>...</td>\n",
       "      <td>0</td>\n",
       "      <td>0</td>\n",
       "      <td>0</td>\n",
       "      <td>0</td>\n",
       "      <td>0</td>\n",
       "      <td>1</td>\n",
       "      <td>0</td>\n",
       "      <td>0</td>\n",
       "      <td>0</td>\n",
       "      <td>0</td>\n",
       "    </tr>\n",
       "    <tr>\n",
       "      <th>1805513</th>\n",
       "      <td>0.0</td>\n",
       "      <td>350000.0</td>\n",
       "      <td>77.0</td>\n",
       "      <td>0.0</td>\n",
       "      <td>1</td>\n",
       "      <td>0</td>\n",
       "      <td>0</td>\n",
       "      <td>0</td>\n",
       "      <td>0</td>\n",
       "      <td>0</td>\n",
       "      <td>...</td>\n",
       "      <td>0</td>\n",
       "      <td>0</td>\n",
       "      <td>0</td>\n",
       "      <td>0</td>\n",
       "      <td>0</td>\n",
       "      <td>0</td>\n",
       "      <td>0</td>\n",
       "      <td>0</td>\n",
       "      <td>1</td>\n",
       "      <td>0</td>\n",
       "    </tr>\n",
       "    <tr>\n",
       "      <th>1115371</th>\n",
       "      <td>0.0</td>\n",
       "      <td>69000.0</td>\n",
       "      <td>17.0</td>\n",
       "      <td>0.0</td>\n",
       "      <td>1</td>\n",
       "      <td>0</td>\n",
       "      <td>0</td>\n",
       "      <td>0</td>\n",
       "      <td>0</td>\n",
       "      <td>0</td>\n",
       "      <td>...</td>\n",
       "      <td>0</td>\n",
       "      <td>0</td>\n",
       "      <td>0</td>\n",
       "      <td>1</td>\n",
       "      <td>0</td>\n",
       "      <td>0</td>\n",
       "      <td>0</td>\n",
       "      <td>0</td>\n",
       "      <td>0</td>\n",
       "      <td>0</td>\n",
       "    </tr>\n",
       "  </tbody>\n",
       "</table>\n",
       "<p>50000 rows × 582 columns</p>\n",
       "</div>"
      ],
      "text/plain": [
       "         UHRSWORK    VALUEH   AGE  TRANWORK  occ_0.0  occ_10.0  occ_20.0  \\\n",
       "288956        0.0  930000.0  80.0       0.0        1         0         0   \n",
       "1085020      15.0  525000.0  17.0      10.0        0         0         0   \n",
       "1242904      40.0   15000.0  67.0      10.0        0         0         0   \n",
       "1226428      40.0   60000.0  48.0      40.0        0         0         0   \n",
       "420714       50.0  560000.0  64.0      70.0        0         0         0   \n",
       "...           ...       ...   ...       ...      ...       ...       ...   \n",
       "1082509      40.0  350000.0  34.0      10.0        0         0         0   \n",
       "764226        0.0  158000.0  81.0       0.0        1         0         0   \n",
       "137567       28.0  150000.0  58.0      10.0        0         0         0   \n",
       "1805513       0.0  350000.0  77.0       0.0        1         0         0   \n",
       "1115371       0.0   69000.0  17.0       0.0        1         0         0   \n",
       "\n",
       "         occ_40.0  occ_51.0  occ_52.0  ...  edu_1.0  edu_2.0  edu_3.0  \\\n",
       "288956          0         0         0  ...        0        0        0   \n",
       "1085020         0         0         0  ...        0        0        0   \n",
       "1242904         0         0         0  ...        0        0        0   \n",
       "1226428         0         0         0  ...        0        0        0   \n",
       "420714          0         0         0  ...        0        0        0   \n",
       "...           ...       ...       ...  ...      ...      ...      ...   \n",
       "1082509         0         0         0  ...        0        0        0   \n",
       "764226          0         0         0  ...        0        0        0   \n",
       "137567          0         0         0  ...        0        0        0   \n",
       "1805513         0         0         0  ...        0        0        0   \n",
       "1115371         0         0         0  ...        0        0        0   \n",
       "\n",
       "         edu_4.0  edu_5.0  edu_6.0  edu_7.0  edu_8.0  edu_10.0  edu_11.0  \n",
       "288956         0        0        0        0        0         0         1  \n",
       "1085020        0        1        0        0        0         0         0  \n",
       "1242904        0        0        1        0        0         0         0  \n",
       "1226428        1        0        0        0        0         0         0  \n",
       "420714         0        0        0        0        0         0         1  \n",
       "...          ...      ...      ...      ...      ...       ...       ...  \n",
       "1082509        0        0        0        0        1         0         0  \n",
       "764226         0        0        0        0        1         0         0  \n",
       "137567         0        0        1        0        0         0         0  \n",
       "1805513        0        0        0        0        0         1         0  \n",
       "1115371        1        0        0        0        0         0         0  \n",
       "\n",
       "[50000 rows x 582 columns]"
      ]
     },
     "execution_count": 3,
     "metadata": {},
     "output_type": "execute_result"
    }
   ],
   "source": [
    "with open('/home/nick/Documents/data/select_cols.p', 'rb') as read_file:\n",
    "    selected_columns = pickle.load(read_file)\n",
    "    \n",
    "\n",
    "tw = selected_columns.sample(50000)\n",
    "ttw = selected_columns.sample(1000)\n",
    "tttw = selected_columns.sample(50)\n",
    "\n",
    "X, Xs, y, ys = selected_columns.drop(columns=['>50K', 'YRMARR', 'PWTYPE', 'BPLD', 'DEGFIELDD', 'EDUCD', 'PWMET13', 'BIRTHYR', 'SLWT', 'BPLD', 'RELATED', 'ANCESTR1D', 'EMPSTATD', 'PWMET13ERR', 'COUNTYICP']), tw.drop(columns=['>50K', 'YRMARR', 'PWTYPE', 'BPLD', 'DEGFIELDD', 'EDUCD', 'PWMET13', 'BIRTHYR', 'SLWT', 'BPLD', 'RELATED', 'ANCESTR1D', 'EMPSTATD', 'PWMET13ERR', 'COUNTYICP']), selected_columns.filter(['>50K']), tw.filter(['>50K'])\n",
    "Z, Zs = selected_columns.filter(['EDUC', 'UHRSWORK', 'OCC', 'VALUEH', 'DEGFIELD', 'AGE', 'SEX', 'RACE', 'TRANWORK']), tw.filter(['EDUC', 'UHRSWORK', 'OCC', 'VALUEH', 'DEGFIELD', 'AGE', 'SEX', 'RACE', 'TRANWORK'])\n",
    "\n",
    "X_train, X_test, y_train, y_test = train_test_split(X, y, test_size=0.2, random_state=42)\n",
    "Xs_train, Xs_test, ys_train, ys_test = train_test_split(Xs, ys, test_size=0.2, random_state=42)\n",
    "\n",
    "train_df = X_train.copy()\n",
    "train_df['$$$'] = y_train\n",
    "\n",
    "Z_train, Z_test, q_train, q_test = train_test_split(Z, y, test_size=0.2, random_state=42)\n",
    "Zs_train, Zs_test, qs_train, qs_test = train_test_split(Zs, ys, test_size=0.2, random_state=42)\n",
    "\n",
    "# Scaling, although it seems to worsen the results for most models\n",
    "std = StandardScaler()\n",
    "X_train_scaled = std.fit_transform(X_train)\n",
    "Xs_train_scaled = std.fit_transform(Xs_train)\n",
    "\n",
    "Z_train_scaled = std.fit_transform(Z_train)\n",
    "Zs_train_scaled = std.fit_transform(Zs_train)\n",
    "\n",
    "edu = pd.get_dummies(Zs['EDUC'], prefix='edu')\n",
    "occ = pd.get_dummies(Zs['OCC'], prefix='occ')\n",
    "degfield = pd.get_dummies(Zs['DEGFIELD'], prefix='deg')\n",
    "sex = pd.get_dummies(Zs['SEX'], prefix='sex', drop_first=True)\n",
    "leftover = Zs.drop(columns=['EDUC', 'OCC', 'DEGFIELD', 'SEX'])\n",
    "Ws = pd.concat([leftover, occ, sex, degfield, edu], axis=1)\n",
    "Ws"
   ]
  },
  {
   "cell_type": "code",
   "execution_count": 4,
   "metadata": {},
   "outputs": [
    {
     "data": {
      "text/html": [
       "<div>\n",
       "<style scoped>\n",
       "    .dataframe tbody tr th:only-of-type {\n",
       "        vertical-align: middle;\n",
       "    }\n",
       "\n",
       "    .dataframe tbody tr th {\n",
       "        vertical-align: top;\n",
       "    }\n",
       "\n",
       "    .dataframe thead th {\n",
       "        text-align: right;\n",
       "    }\n",
       "</style>\n",
       "<table border=\"1\" class=\"dataframe\">\n",
       "  <thead>\n",
       "    <tr style=\"text-align: right;\">\n",
       "      <th></th>\n",
       "      <th>UHRSWORK</th>\n",
       "      <th>VALUEH</th>\n",
       "      <th>AGE</th>\n",
       "      <th>TRANWORK</th>\n",
       "      <th>occ_0.0</th>\n",
       "      <th>occ_10.0</th>\n",
       "      <th>occ_20.0</th>\n",
       "      <th>occ_40.0</th>\n",
       "      <th>occ_51.0</th>\n",
       "      <th>occ_52.0</th>\n",
       "      <th>...</th>\n",
       "      <th>edu_1.0</th>\n",
       "      <th>edu_2.0</th>\n",
       "      <th>edu_3.0</th>\n",
       "      <th>edu_4.0</th>\n",
       "      <th>edu_5.0</th>\n",
       "      <th>edu_6.0</th>\n",
       "      <th>edu_7.0</th>\n",
       "      <th>edu_8.0</th>\n",
       "      <th>edu_10.0</th>\n",
       "      <th>edu_11.0</th>\n",
       "    </tr>\n",
       "  </thead>\n",
       "  <tbody>\n",
       "    <tr>\n",
       "      <th>2292</th>\n",
       "      <td>40.0</td>\n",
       "      <td>130000.0</td>\n",
       "      <td>70.0</td>\n",
       "      <td>70.0</td>\n",
       "      <td>0</td>\n",
       "      <td>0</td>\n",
       "      <td>0</td>\n",
       "      <td>0</td>\n",
       "      <td>0</td>\n",
       "      <td>0</td>\n",
       "      <td>...</td>\n",
       "      <td>0</td>\n",
       "      <td>0</td>\n",
       "      <td>0</td>\n",
       "      <td>0</td>\n",
       "      <td>0</td>\n",
       "      <td>1</td>\n",
       "      <td>0</td>\n",
       "      <td>0</td>\n",
       "      <td>0</td>\n",
       "      <td>0</td>\n",
       "    </tr>\n",
       "    <tr>\n",
       "      <th>2293</th>\n",
       "      <td>40.0</td>\n",
       "      <td>130000.0</td>\n",
       "      <td>71.0</td>\n",
       "      <td>10.0</td>\n",
       "      <td>0</td>\n",
       "      <td>0</td>\n",
       "      <td>0</td>\n",
       "      <td>0</td>\n",
       "      <td>0</td>\n",
       "      <td>0</td>\n",
       "      <td>...</td>\n",
       "      <td>0</td>\n",
       "      <td>0</td>\n",
       "      <td>0</td>\n",
       "      <td>0</td>\n",
       "      <td>0</td>\n",
       "      <td>1</td>\n",
       "      <td>0</td>\n",
       "      <td>0</td>\n",
       "      <td>0</td>\n",
       "      <td>0</td>\n",
       "    </tr>\n",
       "    <tr>\n",
       "      <th>2294</th>\n",
       "      <td>40.0</td>\n",
       "      <td>50000.0</td>\n",
       "      <td>60.0</td>\n",
       "      <td>10.0</td>\n",
       "      <td>0</td>\n",
       "      <td>0</td>\n",
       "      <td>0</td>\n",
       "      <td>0</td>\n",
       "      <td>0</td>\n",
       "      <td>0</td>\n",
       "      <td>...</td>\n",
       "      <td>0</td>\n",
       "      <td>0</td>\n",
       "      <td>0</td>\n",
       "      <td>0</td>\n",
       "      <td>0</td>\n",
       "      <td>1</td>\n",
       "      <td>0</td>\n",
       "      <td>0</td>\n",
       "      <td>0</td>\n",
       "      <td>0</td>\n",
       "    </tr>\n",
       "    <tr>\n",
       "      <th>2295</th>\n",
       "      <td>40.0</td>\n",
       "      <td>50000.0</td>\n",
       "      <td>50.0</td>\n",
       "      <td>10.0</td>\n",
       "      <td>0</td>\n",
       "      <td>0</td>\n",
       "      <td>0</td>\n",
       "      <td>0</td>\n",
       "      <td>0</td>\n",
       "      <td>0</td>\n",
       "      <td>...</td>\n",
       "      <td>0</td>\n",
       "      <td>0</td>\n",
       "      <td>0</td>\n",
       "      <td>0</td>\n",
       "      <td>0</td>\n",
       "      <td>0</td>\n",
       "      <td>0</td>\n",
       "      <td>1</td>\n",
       "      <td>0</td>\n",
       "      <td>0</td>\n",
       "    </tr>\n",
       "    <tr>\n",
       "      <th>2297</th>\n",
       "      <td>0.0</td>\n",
       "      <td>50000.0</td>\n",
       "      <td>60.0</td>\n",
       "      <td>0.0</td>\n",
       "      <td>1</td>\n",
       "      <td>0</td>\n",
       "      <td>0</td>\n",
       "      <td>0</td>\n",
       "      <td>0</td>\n",
       "      <td>0</td>\n",
       "      <td>...</td>\n",
       "      <td>0</td>\n",
       "      <td>0</td>\n",
       "      <td>0</td>\n",
       "      <td>0</td>\n",
       "      <td>0</td>\n",
       "      <td>1</td>\n",
       "      <td>0</td>\n",
       "      <td>0</td>\n",
       "      <td>0</td>\n",
       "      <td>0</td>\n",
       "    </tr>\n",
       "    <tr>\n",
       "      <th>...</th>\n",
       "      <td>...</td>\n",
       "      <td>...</td>\n",
       "      <td>...</td>\n",
       "      <td>...</td>\n",
       "      <td>...</td>\n",
       "      <td>...</td>\n",
       "      <td>...</td>\n",
       "      <td>...</td>\n",
       "      <td>...</td>\n",
       "      <td>...</td>\n",
       "      <td>...</td>\n",
       "      <td>...</td>\n",
       "      <td>...</td>\n",
       "      <td>...</td>\n",
       "      <td>...</td>\n",
       "      <td>...</td>\n",
       "      <td>...</td>\n",
       "      <td>...</td>\n",
       "      <td>...</td>\n",
       "      <td>...</td>\n",
       "      <td>...</td>\n",
       "    </tr>\n",
       "    <tr>\n",
       "      <th>3214529</th>\n",
       "      <td>30.0</td>\n",
       "      <td>275000.0</td>\n",
       "      <td>55.0</td>\n",
       "      <td>10.0</td>\n",
       "      <td>0</td>\n",
       "      <td>0</td>\n",
       "      <td>0</td>\n",
       "      <td>0</td>\n",
       "      <td>0</td>\n",
       "      <td>0</td>\n",
       "      <td>...</td>\n",
       "      <td>0</td>\n",
       "      <td>0</td>\n",
       "      <td>0</td>\n",
       "      <td>0</td>\n",
       "      <td>0</td>\n",
       "      <td>0</td>\n",
       "      <td>0</td>\n",
       "      <td>1</td>\n",
       "      <td>0</td>\n",
       "      <td>0</td>\n",
       "    </tr>\n",
       "    <tr>\n",
       "      <th>3214530</th>\n",
       "      <td>0.0</td>\n",
       "      <td>275000.0</td>\n",
       "      <td>77.0</td>\n",
       "      <td>0.0</td>\n",
       "      <td>0</td>\n",
       "      <td>0</td>\n",
       "      <td>0</td>\n",
       "      <td>0</td>\n",
       "      <td>0</td>\n",
       "      <td>0</td>\n",
       "      <td>...</td>\n",
       "      <td>0</td>\n",
       "      <td>0</td>\n",
       "      <td>0</td>\n",
       "      <td>0</td>\n",
       "      <td>0</td>\n",
       "      <td>1</td>\n",
       "      <td>0</td>\n",
       "      <td>0</td>\n",
       "      <td>0</td>\n",
       "      <td>0</td>\n",
       "    </tr>\n",
       "    <tr>\n",
       "      <th>3214531</th>\n",
       "      <td>40.0</td>\n",
       "      <td>260000.0</td>\n",
       "      <td>41.0</td>\n",
       "      <td>10.0</td>\n",
       "      <td>0</td>\n",
       "      <td>0</td>\n",
       "      <td>0</td>\n",
       "      <td>0</td>\n",
       "      <td>0</td>\n",
       "      <td>0</td>\n",
       "      <td>...</td>\n",
       "      <td>0</td>\n",
       "      <td>0</td>\n",
       "      <td>0</td>\n",
       "      <td>0</td>\n",
       "      <td>0</td>\n",
       "      <td>1</td>\n",
       "      <td>0</td>\n",
       "      <td>0</td>\n",
       "      <td>0</td>\n",
       "      <td>0</td>\n",
       "    </tr>\n",
       "    <tr>\n",
       "      <th>3214532</th>\n",
       "      <td>50.0</td>\n",
       "      <td>260000.0</td>\n",
       "      <td>34.0</td>\n",
       "      <td>10.0</td>\n",
       "      <td>0</td>\n",
       "      <td>0</td>\n",
       "      <td>0</td>\n",
       "      <td>0</td>\n",
       "      <td>0</td>\n",
       "      <td>0</td>\n",
       "      <td>...</td>\n",
       "      <td>0</td>\n",
       "      <td>0</td>\n",
       "      <td>0</td>\n",
       "      <td>0</td>\n",
       "      <td>0</td>\n",
       "      <td>0</td>\n",
       "      <td>0</td>\n",
       "      <td>0</td>\n",
       "      <td>1</td>\n",
       "      <td>0</td>\n",
       "    </tr>\n",
       "    <tr>\n",
       "      <th>3214538</th>\n",
       "      <td>0.0</td>\n",
       "      <td>80000.0</td>\n",
       "      <td>71.0</td>\n",
       "      <td>0.0</td>\n",
       "      <td>1</td>\n",
       "      <td>0</td>\n",
       "      <td>0</td>\n",
       "      <td>0</td>\n",
       "      <td>0</td>\n",
       "      <td>0</td>\n",
       "      <td>...</td>\n",
       "      <td>0</td>\n",
       "      <td>0</td>\n",
       "      <td>0</td>\n",
       "      <td>0</td>\n",
       "      <td>0</td>\n",
       "      <td>0</td>\n",
       "      <td>1</td>\n",
       "      <td>0</td>\n",
       "      <td>0</td>\n",
       "      <td>0</td>\n",
       "    </tr>\n",
       "  </tbody>\n",
       "</table>\n",
       "<p>1828069 rows × 585 columns</p>\n",
       "</div>"
      ],
      "text/plain": [
       "         UHRSWORK    VALUEH   AGE  TRANWORK  occ_0.0  occ_10.0  occ_20.0  \\\n",
       "2292         40.0  130000.0  70.0      70.0        0         0         0   \n",
       "2293         40.0  130000.0  71.0      10.0        0         0         0   \n",
       "2294         40.0   50000.0  60.0      10.0        0         0         0   \n",
       "2295         40.0   50000.0  50.0      10.0        0         0         0   \n",
       "2297          0.0   50000.0  60.0       0.0        1         0         0   \n",
       "...           ...       ...   ...       ...      ...       ...       ...   \n",
       "3214529      30.0  275000.0  55.0      10.0        0         0         0   \n",
       "3214530       0.0  275000.0  77.0       0.0        0         0         0   \n",
       "3214531      40.0  260000.0  41.0      10.0        0         0         0   \n",
       "3214532      50.0  260000.0  34.0      10.0        0         0         0   \n",
       "3214538       0.0   80000.0  71.0       0.0        1         0         0   \n",
       "\n",
       "         occ_40.0  occ_51.0  occ_52.0  ...  edu_1.0  edu_2.0  edu_3.0  \\\n",
       "2292            0         0         0  ...        0        0        0   \n",
       "2293            0         0         0  ...        0        0        0   \n",
       "2294            0         0         0  ...        0        0        0   \n",
       "2295            0         0         0  ...        0        0        0   \n",
       "2297            0         0         0  ...        0        0        0   \n",
       "...           ...       ...       ...  ...      ...      ...      ...   \n",
       "3214529         0         0         0  ...        0        0        0   \n",
       "3214530         0         0         0  ...        0        0        0   \n",
       "3214531         0         0         0  ...        0        0        0   \n",
       "3214532         0         0         0  ...        0        0        0   \n",
       "3214538         0         0         0  ...        0        0        0   \n",
       "\n",
       "         edu_4.0  edu_5.0  edu_6.0  edu_7.0  edu_8.0  edu_10.0  edu_11.0  \n",
       "2292           0        0        1        0        0         0         0  \n",
       "2293           0        0        1        0        0         0         0  \n",
       "2294           0        0        1        0        0         0         0  \n",
       "2295           0        0        0        0        1         0         0  \n",
       "2297           0        0        1        0        0         0         0  \n",
       "...          ...      ...      ...      ...      ...       ...       ...  \n",
       "3214529        0        0        0        0        1         0         0  \n",
       "3214530        0        0        1        0        0         0         0  \n",
       "3214531        0        0        1        0        0         0         0  \n",
       "3214532        0        0        0        0        0         1         0  \n",
       "3214538        0        0        0        1        0         0         0  \n",
       "\n",
       "[1828069 rows x 585 columns]"
      ]
     },
     "execution_count": 4,
     "metadata": {},
     "output_type": "execute_result"
    }
   ],
   "source": [
    "edu = pd.get_dummies(Z['EDUC'], prefix='edu')\n",
    "occ = pd.get_dummies(Z['OCC'], prefix='occ')\n",
    "degfield = pd.get_dummies(Z['DEGFIELD'], prefix='deg')\n",
    "sex = pd.get_dummies(Z['SEX'], prefix='sex', drop_first=True)\n",
    "leftover = Z.drop(columns=['EDUC', 'OCC', 'DEGFIELD', 'SEX'])\n",
    "W = pd.concat([leftover, occ, sex, degfield, edu], axis=1)\n",
    "W"
   ]
  },
  {
   "cell_type": "markdown",
   "metadata": {},
   "source": [
    "#### Near Miss Undersampling to compensate for class imbalance"
   ]
  },
  {
   "cell_type": "code",
   "execution_count": 5,
   "metadata": {},
   "outputs": [],
   "source": [
    "nm1 = NearMiss(version=1, sampling_strategy='auto', n_jobs=-1)\n",
    "resampled_Ws, resampled_ys = nm1.fit_resample(Ws, ys)\n",
    "Ws_train, Ws_test, ys_train, ys_test = train_test_split(Ws, ys, test_size=0.2, random_state=42)"
   ]
  },
  {
   "cell_type": "code",
   "execution_count": null,
   "metadata": {},
   "outputs": [],
   "source": [
    "nm1 = NearMiss(version=1, sampling_strategy='auto', n_jobs=-1)\n",
    "resampled_W, resampled_y = nm1.fit_resample(W, y)\n",
    "W_train, W_test, y_train, y_test = train_test_split(W, y, test_size=0.2, random_state=42)"
   ]
  },
  {
   "cell_type": "code",
   "execution_count": null,
   "metadata": {},
   "outputs": [],
   "source": [
    "print(len(W))\n",
    "print(len(resampled_W))\n",
    "\n",
    "print(len(Ws))\n",
    "print(len(resampled_Ws))\n",
    "\n",
    "print(len(W_train))\n",
    "print(len(W_test))"
   ]
  },
  {
   "cell_type": "code",
   "execution_count": null,
   "metadata": {},
   "outputs": [],
   "source": [
    "knn = KNeighborsClassifier(n_neighbors=10)\n",
    "knn.fit(W_train, y_train)\n",
    "print(\"Training: {:6.2f}%\".format(100*knn.score(W_train, y_train)))\n",
    "print(\"Test set: {:6.2f}%\".format(100*knn.score(W_test, y_test)))"
   ]
  },
  {
   "cell_type": "code",
   "execution_count": null,
   "metadata": {},
   "outputs": [],
   "source": [
    "logit = LogisticRegression()\n",
    "logit.fit(W_train, y_train)\n",
    "print(\"The score for logistic regression is\")\n",
    "print(\"Training: {:6.2f}%\".format(100*logit.score(W_train, y_train)))\n",
    "print(\"Test set: {:6.2f}%\".format(100*logit.score(W_test, y_test)))"
   ]
  },
  {
   "cell_type": "code",
   "execution_count": 9,
   "metadata": {
    "scrolled": false
   },
   "outputs": [
    {
     "name": "stderr",
     "output_type": "stream",
     "text": [
      "/home/nick/anaconda3/lib/python3.8/site-packages/sklearn/utils/validation.py:73: DataConversionWarning: A column-vector y was passed when a 1d array was expected. Please change the shape of y to (n_samples, ), for example using ravel().\n",
      "  return f(**kwargs)\n"
     ]
    },
    {
     "name": "stdout",
     "output_type": "stream",
     "text": [
      "[0]\tvalidation_0-aucpr:0.74320\n",
      "Will train until validation_0-aucpr hasn't improved in 10 rounds.\n",
      "[1]\tvalidation_0-aucpr:0.75836\n",
      "[2]\tvalidation_0-aucpr:0.76326\n",
      "[3]\tvalidation_0-aucpr:0.76586\n",
      "[4]\tvalidation_0-aucpr:0.76958\n",
      "[5]\tvalidation_0-aucpr:0.77077\n",
      "[6]\tvalidation_0-aucpr:0.77344\n",
      "[7]\tvalidation_0-aucpr:0.77582\n",
      "[8]\tvalidation_0-aucpr:0.77807\n",
      "[9]\tvalidation_0-aucpr:0.77901\n",
      "[10]\tvalidation_0-aucpr:0.78031\n",
      "[11]\tvalidation_0-aucpr:0.78173\n",
      "[12]\tvalidation_0-aucpr:0.78273\n",
      "[13]\tvalidation_0-aucpr:0.78363\n",
      "[14]\tvalidation_0-aucpr:0.78524\n",
      "[15]\tvalidation_0-aucpr:0.78625\n",
      "[16]\tvalidation_0-aucpr:0.78725\n",
      "[17]\tvalidation_0-aucpr:0.78823\n",
      "[18]\tvalidation_0-aucpr:0.78946\n",
      "[19]\tvalidation_0-aucpr:0.79033\n",
      "[20]\tvalidation_0-aucpr:0.79134\n",
      "[21]\tvalidation_0-aucpr:0.79183\n",
      "[22]\tvalidation_0-aucpr:0.79263\n",
      "[23]\tvalidation_0-aucpr:0.79323\n",
      "[24]\tvalidation_0-aucpr:0.79378\n",
      "[25]\tvalidation_0-aucpr:0.79435\n",
      "[26]\tvalidation_0-aucpr:0.79492\n",
      "[27]\tvalidation_0-aucpr:0.79548\n",
      "[28]\tvalidation_0-aucpr:0.79597\n",
      "[29]\tvalidation_0-aucpr:0.79633\n",
      "[30]\tvalidation_0-aucpr:0.79690\n",
      "[31]\tvalidation_0-aucpr:0.79732\n",
      "[32]\tvalidation_0-aucpr:0.79771\n",
      "[33]\tvalidation_0-aucpr:0.79811\n",
      "[34]\tvalidation_0-aucpr:0.79847\n",
      "[35]\tvalidation_0-aucpr:0.79887\n",
      "[36]\tvalidation_0-aucpr:0.79924\n",
      "[37]\tvalidation_0-aucpr:0.79947\n",
      "[38]\tvalidation_0-aucpr:0.79993\n",
      "[39]\tvalidation_0-aucpr:0.80022\n",
      "[40]\tvalidation_0-aucpr:0.80052\n",
      "[41]\tvalidation_0-aucpr:0.80081\n",
      "[42]\tvalidation_0-aucpr:0.80106\n",
      "[43]\tvalidation_0-aucpr:0.80139\n",
      "[44]\tvalidation_0-aucpr:0.80171\n",
      "[45]\tvalidation_0-aucpr:0.80189\n",
      "[46]\tvalidation_0-aucpr:0.80229\n",
      "[47]\tvalidation_0-aucpr:0.80250\n",
      "[48]\tvalidation_0-aucpr:0.80282\n",
      "[49]\tvalidation_0-aucpr:0.80310\n",
      "[50]\tvalidation_0-aucpr:0.80332\n",
      "[51]\tvalidation_0-aucpr:0.80351\n",
      "[52]\tvalidation_0-aucpr:0.80369\n",
      "[53]\tvalidation_0-aucpr:0.80390\n",
      "[54]\tvalidation_0-aucpr:0.80412\n",
      "[55]\tvalidation_0-aucpr:0.80435\n",
      "[56]\tvalidation_0-aucpr:0.80451\n",
      "[57]\tvalidation_0-aucpr:0.80470\n",
      "[58]\tvalidation_0-aucpr:0.80486\n",
      "[59]\tvalidation_0-aucpr:0.80514\n",
      "[60]\tvalidation_0-aucpr:0.80533\n",
      "[61]\tvalidation_0-aucpr:0.80552\n",
      "[62]\tvalidation_0-aucpr:0.80576\n",
      "[63]\tvalidation_0-aucpr:0.80586\n",
      "[64]\tvalidation_0-aucpr:0.80602\n",
      "[65]\tvalidation_0-aucpr:0.80618\n",
      "[66]\tvalidation_0-aucpr:0.80636\n",
      "[67]\tvalidation_0-aucpr:0.80657\n",
      "[68]\tvalidation_0-aucpr:0.80671\n",
      "[69]\tvalidation_0-aucpr:0.80692\n",
      "[70]\tvalidation_0-aucpr:0.80706\n",
      "[71]\tvalidation_0-aucpr:0.80719\n",
      "[72]\tvalidation_0-aucpr:0.80729\n",
      "[73]\tvalidation_0-aucpr:0.80739\n",
      "[74]\tvalidation_0-aucpr:0.80753\n",
      "[75]\tvalidation_0-aucpr:0.80773\n",
      "[76]\tvalidation_0-aucpr:0.80790\n",
      "[77]\tvalidation_0-aucpr:0.80800\n",
      "[78]\tvalidation_0-aucpr:0.80817\n",
      "[79]\tvalidation_0-aucpr:0.80823\n",
      "[80]\tvalidation_0-aucpr:0.80833\n",
      "[81]\tvalidation_0-aucpr:0.80846\n",
      "[82]\tvalidation_0-aucpr:0.80858\n",
      "[83]\tvalidation_0-aucpr:0.80867\n",
      "[84]\tvalidation_0-aucpr:0.80880\n",
      "[85]\tvalidation_0-aucpr:0.80891\n",
      "[86]\tvalidation_0-aucpr:0.80904\n",
      "[87]\tvalidation_0-aucpr:0.80917\n",
      "[88]\tvalidation_0-aucpr:0.80926\n",
      "[89]\tvalidation_0-aucpr:0.80937\n",
      "[90]\tvalidation_0-aucpr:0.80945\n",
      "[91]\tvalidation_0-aucpr:0.80960\n",
      "[92]\tvalidation_0-aucpr:0.80976\n",
      "[93]\tvalidation_0-aucpr:0.80981\n",
      "[94]\tvalidation_0-aucpr:0.80991\n",
      "[95]\tvalidation_0-aucpr:0.80998\n",
      "[96]\tvalidation_0-aucpr:0.81007\n",
      "[97]\tvalidation_0-aucpr:0.81017\n",
      "[98]\tvalidation_0-aucpr:0.81026\n",
      "[99]\tvalidation_0-aucpr:0.81035\n"
     ]
    },
    {
     "data": {
      "text/plain": [
       "XGBClassifier(base_score=0.5, booster='gbtree', colsample_bylevel=1,\n",
       "              colsample_bynode=1, colsample_bytree=1, gamma=0, gpu_id=-1,\n",
       "              importance_type='gain', interaction_constraints='',\n",
       "              learning_rate=0.300000012, max_delta_step=0, max_depth=6,\n",
       "              min_child_weight=1, missing=None, monotone_constraints='()',\n",
       "              n_estimators=100, n_jobs=0, num_parallel_tree=1, random_state=42,\n",
       "              reg_alpha=0, reg_lambda=1, scale_pos_weight=1, seed=42,\n",
       "              subsample=1, tree_method='exact', validate_parameters=1,\n",
       "              verbosity=None)"
      ]
     },
     "execution_count": 9,
     "metadata": {},
     "output_type": "execute_result"
    }
   ],
   "source": [
    "clf_xgb = xgb.XGBClassifier(objective='binary:logistic', missing=None, seed=42)\n",
    "clf_xgb.fit(W_train, y_train, verbose=True, early_stopping_rounds=10, eval_metric='aucpr', eval_set=[(W_test, y_test)])"
   ]
  },
  {
   "cell_type": "code",
   "execution_count": 10,
   "metadata": {},
   "outputs": [
    {
     "name": "stderr",
     "output_type": "stream",
     "text": [
      "<ipython-input-10-8087620b27d4>:2: DataConversionWarning: A column-vector y was passed when a 1d array was expected. Please change the shape of y to (n_samples,), for example using ravel().\n",
      "  rf.fit(W_train, y_train)\n"
     ]
    },
    {
     "name": "stdout",
     "output_type": "stream",
     "text": [
      "The r2 score for random forest is\n",
      "Training:  97.55%\n",
      "Test set:  81.43%\n"
     ]
    }
   ],
   "source": [
    "rf = RandomForestClassifier(n_jobs=-1)\n",
    "rf.fit(W_train, y_train)\n",
    "print(\"The r2 score for random forest is\")\n",
    "print(\"Training: {:6.2f}%\".format(100*rf.score(W_train, y_train)))\n",
    "print(\"Test set: {:6.2f}%\".format(100*rf.score(W_test, y_test)))"
   ]
  },
  {
   "cell_type": "code",
   "execution_count": 11,
   "metadata": {},
   "outputs": [
    {
     "name": "stderr",
     "output_type": "stream",
     "text": [
      "<ipython-input-11-aa2d259399c0>:2: DataConversionWarning: A column-vector y was passed when a 1d array was expected. Please change the shape of y to (n_samples, ), for example using ravel().\n",
      "  knn.fit(Ws_train, ys_train)\n"
     ]
    },
    {
     "name": "stdout",
     "output_type": "stream",
     "text": [
      "Training:  80.00%\n",
      "Test set:  76.11%\n"
     ]
    }
   ],
   "source": [
    "knn = KNeighborsClassifier(n_neighbors=10, n_jobs=-1)\n",
    "knn.fit(Ws_train, ys_train)\n",
    "print(\"Training: {:6.2f}%\".format(100*knn.score(Ws_train, ys_train)))\n",
    "print(\"Test set: {:6.2f}%\".format(100*knn.score(Ws_test, ys_test)))"
   ]
  },
  {
   "cell_type": "code",
   "execution_count": 12,
   "metadata": {},
   "outputs": [
    {
     "data": {
      "text/plain": [
       "<sklearn.metrics._plot.confusion_matrix.ConfusionMatrixDisplay at 0x7fda5828c2b0>"
      ]
     },
     "execution_count": 12,
     "metadata": {},
     "output_type": "execute_result"
    },
    {
     "data": {
      "image/png": "[encoded data removed]",
      "text/plain": [
       "<Figure size 432x288 with 2 Axes>"
      ]
     },
     "metadata": {
      "needs_background": "light"
     },
     "output_type": "display_data"
    }
   ],
   "source": [
    "plot_confusion_matrix(knn, Ws_test, ys_test)"
   ]
  },
  {
   "cell_type": "code",
   "execution_count": 13,
   "metadata": {},
   "outputs": [
    {
     "name": "stdout",
     "output_type": "stream",
     "text": [
      "Default threshold:\n",
      "Precision: 0.6695,   Recall: 0.5101\n"
     ]
    }
   ],
   "source": [
    "ys_predict = knn.predict(Ws_test)\n",
    "print(\"Default threshold:\")\n",
    "print(\"Precision: {:6.4f},   Recall: {:6.4f}\".format(precision_score(ys_test, ys_predict), \n",
    "                                                     recall_score(ys_test, ys_predict)))"
   ]
  },
  {
   "cell_type": "markdown",
   "metadata": {},
   "source": [
    "# Logistic Regression\n"
   ]
  },
  {
   "cell_type": "code",
   "execution_count": 14,
   "metadata": {},
   "outputs": [
    {
     "name": "stderr",
     "output_type": "stream",
     "text": [
      "/home/nick/anaconda3/lib/python3.8/site-packages/sklearn/utils/validation.py:73: DataConversionWarning: A column-vector y was passed when a 1d array was expected. Please change the shape of y to (n_samples, ), for example using ravel().\n",
      "  return f(**kwargs)\n"
     ]
    },
    {
     "name": "stdout",
     "output_type": "stream",
     "text": [
      "The score for logistic regression is\n",
      "Training:  65.99%\n",
      "Test set:  65.99%\n"
     ]
    }
   ],
   "source": [
    "logit = LogisticRegression()\n",
    "logit.fit(Ws_train, ys_train)\n",
    "print(\"The score for logistic regression is\")\n",
    "print(\"Training: {:6.2f}%\".format(100*logit.score(Ws_train, ys_train)))\n",
    "print(\"Test set: {:6.2f}%\".format(100*logit.score(Ws_test, ys_test)))"
   ]
  },
  {
   "cell_type": "code",
   "execution_count": 15,
   "metadata": {},
   "outputs": [
    {
     "data": {
      "text/plain": [
       "<sklearn.metrics._plot.confusion_matrix.ConfusionMatrixDisplay at 0x7fda579b93d0>"
      ]
     },
     "execution_count": 15,
     "metadata": {},
     "output_type": "execute_result"
    },
    {
     "data": {
      "image/png": "[encoded data removed]",
      "text/plain": [
       "<Figure size 432x288 with 2 Axes>"
      ]
     },
     "metadata": {
      "needs_background": "light"
     },
     "output_type": "display_data"
    }
   ],
   "source": [
    "plot_confusion_matrix(logit, Ws_test, ys_test)"
   ]
  },
  {
   "cell_type": "code",
   "execution_count": 16,
   "metadata": {},
   "outputs": [
    {
     "name": "stdout",
     "output_type": "stream",
     "text": [
      "Default threshold:\n",
      "Precision: 0.4671,   Recall: 0.3965\n"
     ]
    }
   ],
   "source": [
    "ys_predict = logit.predict(Ws_test)\n",
    "print(\"Default threshold:\")\n",
    "print(\"Precision: {:6.4f},   Recall: {:6.4f}\".format(precision_score(ys_test, ys_predict), \n",
    "                                                     recall_score(ys_test, ys_predict)))"
   ]
  },
  {
   "cell_type": "markdown",
   "metadata": {},
   "source": [
    "# XGBoost"
   ]
  },
  {
   "cell_type": "code",
   "execution_count": 17,
   "metadata": {},
   "outputs": [
    {
     "name": "stderr",
     "output_type": "stream",
     "text": [
      "/home/nick/anaconda3/lib/python3.8/site-packages/sklearn/utils/validation.py:73: DataConversionWarning: A column-vector y was passed when a 1d array was expected. Please change the shape of y to (n_samples, ), for example using ravel().\n",
      "  return f(**kwargs)\n"
     ]
    },
    {
     "name": "stdout",
     "output_type": "stream",
     "text": [
      "[0]\tvalidation_0-aucpr:0.73852\n",
      "Will train until validation_0-aucpr hasn't improved in 10 rounds.\n",
      "[1]\tvalidation_0-aucpr:0.75466\n",
      "[2]\tvalidation_0-aucpr:0.75879\n",
      "[3]\tvalidation_0-aucpr:0.76470\n",
      "[4]\tvalidation_0-aucpr:0.76939\n",
      "[5]\tvalidation_0-aucpr:0.77153\n",
      "[6]\tvalidation_0-aucpr:0.77448\n",
      "[7]\tvalidation_0-aucpr:0.77630\n",
      "[8]\tvalidation_0-aucpr:0.77678\n",
      "[9]\tvalidation_0-aucpr:0.77839\n",
      "[10]\tvalidation_0-aucpr:0.78034\n",
      "[11]\tvalidation_0-aucpr:0.78102\n",
      "[12]\tvalidation_0-aucpr:0.78231\n",
      "[13]\tvalidation_0-aucpr:0.78353\n",
      "[14]\tvalidation_0-aucpr:0.78350\n",
      "[15]\tvalidation_0-aucpr:0.78419\n",
      "[16]\tvalidation_0-aucpr:0.78524\n",
      "[17]\tvalidation_0-aucpr:0.78559\n",
      "[18]\tvalidation_0-aucpr:0.78639\n",
      "[19]\tvalidation_0-aucpr:0.78654\n",
      "[20]\tvalidation_0-aucpr:0.78714\n",
      "[21]\tvalidation_0-aucpr:0.78681\n",
      "[22]\tvalidation_0-aucpr:0.78729\n",
      "[23]\tvalidation_0-aucpr:0.78725\n",
      "[24]\tvalidation_0-aucpr:0.78721\n",
      "[25]\tvalidation_0-aucpr:0.78761\n",
      "[26]\tvalidation_0-aucpr:0.78732\n",
      "[27]\tvalidation_0-aucpr:0.78735\n",
      "[28]\tvalidation_0-aucpr:0.78771\n",
      "[29]\tvalidation_0-aucpr:0.78798\n",
      "[30]\tvalidation_0-aucpr:0.78841\n",
      "[31]\tvalidation_0-aucpr:0.78888\n",
      "[32]\tvalidation_0-aucpr:0.78827\n",
      "[33]\tvalidation_0-aucpr:0.78840\n",
      "[34]\tvalidation_0-aucpr:0.78878\n",
      "[35]\tvalidation_0-aucpr:0.78909\n",
      "[36]\tvalidation_0-aucpr:0.78935\n",
      "[37]\tvalidation_0-aucpr:0.78964\n",
      "[38]\tvalidation_0-aucpr:0.79022\n",
      "[39]\tvalidation_0-aucpr:0.79029\n",
      "[40]\tvalidation_0-aucpr:0.79041\n",
      "[41]\tvalidation_0-aucpr:0.79048\n",
      "[42]\tvalidation_0-aucpr:0.79049\n",
      "[43]\tvalidation_0-aucpr:0.79042\n",
      "[44]\tvalidation_0-aucpr:0.78995\n",
      "[45]\tvalidation_0-aucpr:0.78995\n",
      "[46]\tvalidation_0-aucpr:0.78998\n",
      "[47]\tvalidation_0-aucpr:0.79014\n",
      "[48]\tvalidation_0-aucpr:0.79026\n",
      "[49]\tvalidation_0-aucpr:0.79016\n",
      "[50]\tvalidation_0-aucpr:0.79035\n",
      "[51]\tvalidation_0-aucpr:0.79086\n",
      "[52]\tvalidation_0-aucpr:0.79076\n",
      "[53]\tvalidation_0-aucpr:0.79097\n",
      "[54]\tvalidation_0-aucpr:0.79130\n",
      "[55]\tvalidation_0-aucpr:0.79157\n",
      "[56]\tvalidation_0-aucpr:0.79176\n",
      "[57]\tvalidation_0-aucpr:0.79198\n",
      "[58]\tvalidation_0-aucpr:0.79198\n",
      "[59]\tvalidation_0-aucpr:0.79198\n",
      "[60]\tvalidation_0-aucpr:0.79195\n",
      "[61]\tvalidation_0-aucpr:0.79164\n",
      "[62]\tvalidation_0-aucpr:0.79151\n",
      "[63]\tvalidation_0-aucpr:0.79146\n",
      "[64]\tvalidation_0-aucpr:0.79148\n",
      "[65]\tvalidation_0-aucpr:0.79138\n",
      "[66]\tvalidation_0-aucpr:0.79152\n",
      "[67]\tvalidation_0-aucpr:0.79143\n",
      "[68]\tvalidation_0-aucpr:0.79153\n",
      "Stopping. Best iteration:\n",
      "[58]\tvalidation_0-aucpr:0.79198\n",
      "\n"
     ]
    },
    {
     "data": {
      "text/plain": [
       "XGBClassifier(base_score=0.5, booster='gbtree', colsample_bylevel=1,\n",
       "              colsample_bynode=1, colsample_bytree=1, gamma=0, gpu_id=-1,\n",
       "              importance_type='gain', interaction_constraints='',\n",
       "              learning_rate=0.300000012, max_delta_step=0, max_depth=6,\n",
       "              min_child_weight=1, missing=None, monotone_constraints='()',\n",
       "              n_estimators=100, n_jobs=0, num_parallel_tree=1, random_state=42,\n",
       "              reg_alpha=0, reg_lambda=1, scale_pos_weight=1, seed=42,\n",
       "              subsample=1, tree_method='exact', validate_parameters=1,\n",
       "              verbosity=None)"
      ]
     },
     "execution_count": 17,
     "metadata": {},
     "output_type": "execute_result"
    }
   ],
   "source": [
    "clf_xgb = xgb.XGBClassifier(objective='binary:logistic', missing=None, seed=42, n_jobs=-1)\n",
    "clf_xgb.fit(Ws_train, ys_train, verbose=True, early_stopping_rounds=10, eval_metric='aucpr', eval_set=[(Ws_test, ys_test)])"
   ]
  },
  {
   "cell_type": "code",
   "execution_count": null,
   "metadata": {
    "scrolled": false
   },
   "outputs": [],
   "source": [
    "params = {\n",
    "    'max_depth': [3,4,5],\n",
    "    'learning_rate': [0.1, 0.05, 0.01],\n",
    "    'gamma': [0, 0.25, 1.0],\n",
    "    'reg_lambda': [0, 1.0, 10.0],\n",
    "    'scale_pos_weight': [1, 3, 5]\n",
    "}\n",
    "\n",
    "kfold = KFold(n_splits=2)\n",
    "\n",
    "best_xgb = GridSearchCV(\n",
    "    clf_xgb, param_grid=params, cv=1, verbose=0, n_jobs=-1)\n",
    "\n",
    "scores = cross_val_score(best_xgb, Ws, ys, scoring='r2', cv=kfold) "
   ]
  },
  {
   "cell_type": "code",
   "execution_count": null,
   "metadata": {},
   "outputs": [],
   "source": [
    "scores"
   ]
  },
  {
   "cell_type": "code",
   "execution_count": 18,
   "metadata": {},
   "outputs": [
    {
     "data": {
      "text/plain": [
       "<sklearn.metrics._plot.confusion_matrix.ConfusionMatrixDisplay at 0x7fed186b4700>"
      ]
     },
     "execution_count": 18,
     "metadata": {},
     "output_type": "execute_result"
    },
    {
     "data": {
      "image/png": "[encoded data removed]",
      "text/plain": [
       "<Figure size 432x288 with 2 Axes>"
      ]
     },
     "metadata": {
      "needs_background": "light"
     },
     "output_type": "display_data"
    }
   ],
   "source": [
    "plot_confusion_matrix(clf_xgb,\n",
    "                     Ws_test,\n",
    "                     ys_test,\n",
    "                     values_format='d',\n",
    "                     display_labels=['+', '-'])"
   ]
  },
  {
   "cell_type": "code",
   "execution_count": 39,
   "metadata": {},
   "outputs": [
    {
     "data": {
      "text/plain": [
       "GridSearchCV(cv=3,\n",
       "             estimator=XGBClassifier(base_score=None, booster=None,\n",
       "                                     colsample_bylevel=None,\n",
       "                                     colsample_bynode=None,\n",
       "                                     colsample_bytree=0.5, gamma=None,\n",
       "                                     gpu_id=None, importance_type='gain',\n",
       "                                     interaction_constraints=None,\n",
       "                                     learning_rate=None, max_delta_step=None,\n",
       "                                     max_depth=None, min_child_weight=None,\n",
       "                                     missing=nan, monotone_constraints=None,\n",
       "                                     n_estimators=100, n_jobs=...\n",
       "                                     num_parallel_tree=None, random_state=None,\n",
       "                                     reg_alpha=None, reg_lambda=None,\n",
       "                                     scale_pos_weight=None, seed=42,\n",
       "                                     subsample=0.9, tree_method=None,\n",
       "                                     validate_parameters=None, verbosity=None),\n",
       "             n_jobs=-1,\n",
       "             param_grid={'gamma': [0, 0.25, 1.0],\n",
       "                         'learning_rate': [0.1, 0.05, 0.01],\n",
       "                         'max_depth': [3, 4, 5], 'reg_lambda': [0, 1.0, 10.0],\n",
       "                         'scale_pos_weight': [1, 3, 5]},\n",
       "             scoring='roc_auc', verbose=2)"
      ]
     },
     "execution_count": 39,
     "metadata": {},
     "output_type": "execute_result"
    }
   ],
   "source": [
    "param_grid = {\n",
    "    'max_depth': [3,4,5],\n",
    "    'learning_rate': [0.1, 0.05, 0.01],\n",
    "    'gamma': [0, 0.25, 1.0],\n",
    "    'reg_lambda': [0, 1.0, 10.0],\n",
    "    'scale_pos_weight': [1, 3, 5]\n",
    "}\n",
    "\n",
    "optimal_params = GridSearchCV(\n",
    "    estimator=xgb.XGBClassifier(objective='binary:logistic',\n",
    "                                                         seed=42,\n",
    "                                                         subsample=0.9,\n",
    "                                                         colsample_bytree=0.5),\n",
    "    param_grid=param_grid,\n",
    "    scoring='roc_auc',\n",
    "    verbose=2,\n",
    "    n_jobs=-1,\n",
    "    cv=3\n",
    "    )\n",
    "\n",
    "optimal_params"
   ]
  },
  {
   "cell_type": "markdown",
   "metadata": {},
   "source": [
    "# Random Forest Subsample"
   ]
  },
  {
   "cell_type": "code",
   "execution_count": 18,
   "metadata": {},
   "outputs": [
    {
     "name": "stderr",
     "output_type": "stream",
     "text": [
      "<ipython-input-18-0897ec17a1ec>:2: DataConversionWarning: A column-vector y was passed when a 1d array was expected. Please change the shape of y to (n_samples,), for example using ravel().\n",
      "  rf.fit(Ws_train, ys_train)\n"
     ]
    },
    {
     "name": "stdout",
     "output_type": "stream",
     "text": [
      "The r2 score for random forest is\n",
      "Training:  99.48%\n",
      "Test set:  80.68%\n"
     ]
    }
   ],
   "source": [
    "rf = RandomForestClassifier()\n",
    "rf.fit(Ws_train, ys_train)\n",
    "print(\"The r2 score for random forest is\")\n",
    "print(\"Training: {:6.2f}%\".format(100*rf.score(Ws_train, ys_train)))\n",
    "print(\"Test set: {:6.2f}%\".format(100*rf.score(Ws_test, ys_test)))"
   ]
  },
  {
   "cell_type": "code",
   "execution_count": 19,
   "metadata": {},
   "outputs": [
    {
     "data": {
      "text/plain": [
       "<sklearn.metrics._plot.confusion_matrix.ConfusionMatrixDisplay at 0x7fda582827f0>"
      ]
     },
     "execution_count": 19,
     "metadata": {},
     "output_type": "execute_result"
    },
    {
     "data": {
      "image/png": "[encoded data removed]",
      "text/plain": [
       "<Figure size 432x288 with 2 Axes>"
      ]
     },
     "metadata": {
      "needs_background": "light"
     },
     "output_type": "display_data"
    }
   ],
   "source": [
    "plot_confusion_matrix(rf, Ws_test, ys_test)"
   ]
  },
  {
   "cell_type": "code",
   "execution_count": 20,
   "metadata": {},
   "outputs": [
    {
     "name": "stdout",
     "output_type": "stream",
     "text": [
      "Default threshold:\n",
      "Precision: 0.4671,   Recall: 0.3965\n"
     ]
    }
   ],
   "source": [
    "qs_predict = rf.predict(Ws_test)\n",
    "print(\"Default threshold:\")\n",
    "print(\"Precision: {:6.4f},   Recall: {:6.4f}\".format(precision_score(ys_test, ys_predict), \n",
    "                                                     recall_score(ys_test, ys_predict)))"
   ]
  },
  {
   "cell_type": "markdown",
   "metadata": {},
   "source": [
    "# Random Forest\n"
   ]
  },
  {
   "cell_type": "code",
   "execution_count": 21,
   "metadata": {},
   "outputs": [
    {
     "name": "stderr",
     "output_type": "stream",
     "text": [
      "<ipython-input-21-8087620b27d4>:2: DataConversionWarning: A column-vector y was passed when a 1d array was expected. Please change the shape of y to (n_samples,), for example using ravel().\n",
      "  rf.fit(W_train, y_train)\n"
     ]
    },
    {
     "name": "stdout",
     "output_type": "stream",
     "text": [
      "The r2 score for random forest is\n",
      "Training:  97.55%\n",
      "Test set:  81.41%\n"
     ]
    }
   ],
   "source": [
    "rf = RandomForestClassifier(n_jobs=-1)\n",
    "rf.fit(W_train, y_train)\n",
    "print(\"The r2 score for random forest is\")\n",
    "print(\"Training: {:6.2f}%\".format(100*rf.score(W_train, y_train)))\n",
    "print(\"Test set: {:6.2f}%\".format(100*rf.score(W_test, y_test)))"
   ]
  },
  {
   "cell_type": "code",
   "execution_count": 22,
   "metadata": {},
   "outputs": [
    {
     "data": {
      "text/plain": [
       "<sklearn.metrics._plot.confusion_matrix.ConfusionMatrixDisplay at 0x7fda579f57c0>"
      ]
     },
     "execution_count": 22,
     "metadata": {},
     "output_type": "execute_result"
    },
    {
     "data": {
      "image/png": "[encoded data removed]",
      "text/plain": [
       "<Figure size 432x288 with 2 Axes>"
      ]
     },
     "metadata": {
      "needs_background": "light"
     },
     "output_type": "display_data"
    }
   ],
   "source": [
    "plot_confusion_matrix(rf, W_test, y_test)"
   ]
  },
  {
   "cell_type": "code",
   "execution_count": 25,
   "metadata": {},
   "outputs": [
    {
     "name": "stdout",
     "output_type": "stream",
     "text": [
      "Default threshold:\n",
      "Precision: 0.7276,   Recall: 0.6718\n"
     ]
    }
   ],
   "source": [
    "y_predict = rf.predict(W_test)\n",
    "print(\"Default threshold:\")\n",
    "print(\"Precision: {:6.4f},   Recall: {:6.4f}\".format(precision_score(y_test, y_predict), \n",
    "                                                     recall_score(y_test, y_predict)))"
   ]
  },
  {
   "cell_type": "markdown",
   "metadata": {},
   "source": [
    "## Webapp Modeller"
   ]
  },
  {
   "cell_type": "code",
   "execution_count": null,
   "metadata": {},
   "outputs": [],
   "source": [
    "def models(X,y,resampler):\n",
    "    '''\n",
    "    This function takes features, predictors, and a resampling method. It splits into train and test then\n",
    "    cross validates on the training set using kfolds = 5. Train test split and kfolds are stratified to \n",
    "    ensure representation of classes in the test set. Output is the FBeta score for each model (beta = 4)\n",
    "    prioritizing for recall. Also outputs ROC curve including all models\n",
    "    ------\n",
    "    Inputs: array, series, over_sampler (ADASYN, SMOTE, or RandomOverSampling)\n",
    "    Outputs: dictionary, plot\n",
    "    \n",
    "    '''\n",
    "    # 80:20 split holding out test set. Calling kfold\n",
    "    X_train, X_test, y_train, y_test = train_test_split(X,y, test_size = 0.2, random_state = 42, stratify = y)\n",
    "    kf = StratifiedKFold(n_splits=5, shuffle = True, random_state=42)\n",
    "\n",
    "    # Dictionary to hold Results\n",
    "    cv_results = defaultdict()\n",
    "    cv_accuracy = defaultdict()\n",
    "    test_results = defaultdict()\n",
    "\n",
    "    # Get indices for split\n",
    "    X_train = np.array(X_train)\n",
    "    y_train = np.array(y_train)\n",
    "\n",
    "    # Couple models\n",
    "    models = {'logreg':LogisticRegression(C = 1, penalty = 'l1', solver = 'newton-cg'), # See Grid Search CV\n",
    "             'knn': KNeighborsClassifier(),\n",
    "             'svc': svm.SVC(gamma = 'scale', probability = True),\n",
    "             'naive': BernoulliNB(),\n",
    "             'dectree': DecisionTreeClassifier(),\n",
    "             'forrest': RandomForestClassifier(n_estimators = 100),} \n",
    "             #'xgboost': XGBClassifier()}\n",
    "\n",
    "    for model_name, model in models.items():\n",
    "        cv_results[model_name] = []\n",
    "        cv_accuracy[model_name] = []\n",
    "        \n",
    "        for indices in kf.split(X_train, y_train):\n",
    "            train_ind = indices[0]\n",
    "            val_ind = indices[1]\n",
    "            X_tr, y_tr = X_train[train_ind], y_train[train_ind]\n",
    "            X_resampled_train, y_resampled_train = resampler(random_state=42).fit_sample(X_tr,y_tr)\n",
    "            X_val, y_val = X_train[val_ind], y_train[val_ind]\n",
    "            X_resampled_val, y_resampled_val = resampler(random_state=42).fit_sample(X_val, y_val)\n",
    "            model.fit(X_resampled_train, y_resampled_train)\n",
    "            y_pred = model.predict(X_val)\n",
    "            cv_results[model_name].append(#'Precision Score {:.2f}'.format(precision_score(y_val, y_pred)),\n",
    "                                      #'Recall Score: {:.2f}'.format(recall_score(y_val, y_pred)), \n",
    "                                      #'F1 Score: {:.2f}'.format(f1_score(y_val, y_pred)), \n",
    "                                    #'Training Accuracy:{:6.2f}%'.format(100*model.score(X_train, y_train)),\n",
    "                                    #'Validation Accuracy: {:6.2f}%'.format(100*model.score(X_val, y_val)),\n",
    "                                     fbeta_score(y_val, y_pred,4))\n",
    "\n",
    "            cv_accuracy[model_name].append(100*model.score(X_val, y_val))\n",
    "    fig = plt.figure(figsize=(10,10))    \n",
    "    for model_name, model in models.items():\n",
    "        cv_results[model_name] = 'Mean FBeta Score: {:.2f}'.format(statistics.mean(cv_results[model_name]))\n",
    "        cv_accuracy[model_name] = 'Mean Val Accuracy: {:6.2f}%'.format(statistics.mean(cv_accuracy[model_name]))\n",
    "        test_results[model_name] = 'Test Accuracy: {:6.2f}%'.format(100*model.score(X_test, y_test))\n",
    "        fpr, tpr, threshold_curve = roc_curve(y_test, model.predict_proba(X_test)[::,1])\n",
    "        plt.plot(fpr, tpr,lw=2, color =np.random.rand(3,), label = model_name)\n",
    "        plt.legend()\n",
    "        plt.plot([0,1],[0,1],c='violet',ls='--')\n",
    "        plt.xlim([-0.05,1.05])\n",
    "        plt.ylim([-0.05,1.05])\n",
    "        plt.xlabel('False positive rate')\n",
    "        plt.ylabel('True positive rate')\n",
    "        plt.title('ROC Curve for All Models');\n",
    "    return cv_results, cv_accuracy, test_results"
   ]
  }
 ],
 "metadata": {
  "kernelspec": {
   "display_name": "Python 3",
   "language": "python",
   "name": "python3"
  },
  "language_info": {
   "codemirror_mode": {
    "name": "ipython",
    "version": 3
   },
   "file_extension": ".py",
   "mimetype": "text/x-python",
   "name": "python",
   "nbconvert_exporter": "python",
   "pygments_lexer": "ipython3",
   "version": "3.8.3"
  }
 },
 "nbformat": 4,
 "nbformat_minor": 4
}
